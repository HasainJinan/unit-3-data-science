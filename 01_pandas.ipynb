{
 "cells": [
  {
   "cell_type": "markdown",
   "metadata": {},
   "source": [
    "## Lab 03.01 - Introduction to Pandas and Data Operations\n",
    "In this lab, you'll learn how to use the pandas library to analyze real-world sales data. By the end of this lab, you'll be comfortable with the fundamental operations in pandas."
   ]
  },
  {
   "cell_type": "markdown",
   "metadata": {
    "vscode": {
     "languageId": "plaintext"
    }
   },
   "source": [
    "### Part 0 - Intro to Pandas\n",
    "Before we dive into using pandas, let's understand what it is and why it's important in data science.\n",
    "\n",
    "To answer the questions, edit the markdown cell and put your answer below the question. \n",
    "\n",
    "**Make sure to save the markdown cell, by pressing the ✓ (check) icon in the top right after answering the questions**\n",
    "\n",
    "Research and critically think about the following questions:"
   ]
  },
  {
   "attachments": {},
   "cell_type": "markdown",
   "metadata": {},
   "source": [
    "##### Question 00\n",
    "What is Pandas, and what are its primary functions in data visualization for data science?\n",
    "- **Answer:** Pandas is a Python library created for data analysis, cleaning, manipulating, and exploring.\n",
    "\n",
    "##### Question 01\n",
    "What does \"data manipulation\" mean in the context of pandas and data science field?\n",
    "- **Answer:** Pandas is capable of deleting data that is irrelevant and organize data into an easy to read format. \n",
    "\n",
    "##### Question 02\n",
    "What kind of files can pandas read? List at least 3:\n",
    "- **Answer:** Pandas can read csv , sql, and json files. "
   ]
  },
  {
   "cell_type": "markdown",
   "metadata": {},
   "source": [
    "#### 0.0 - Hands-On Exploration\n",
    "Let's start by importing pandas and exploring its basic functionality. Type these commands and write down what you observe:\n",
    "\n",
    "First, let's install the matplotlib library, in your terminal run the following command:\n",
    "\n",
    "```bash\n",
    "pip3 install pandas\n",
    "```\n",
    "\n",
    "Once installed, let's start by importing pandas and exploring its basic functionality. "
   ]
  },
  {
   "cell_type": "code",
   "execution_count": 1,
   "metadata": {},
   "outputs": [],
   "source": [
    "import pandas as pd"
   ]
  },
  {
   "cell_type": "markdown",
   "metadata": {},
   "source": [
    "Now lets run create a list, and see what happens when we use it with pandas."
   ]
  },
  {
   "cell_type": "code",
   "execution_count": 2,
   "metadata": {},
   "outputs": [
    {
     "name": "stdout",
     "output_type": "stream",
     "text": [
      "0    1\n",
      "1    2\n",
      "2    3\n",
      "3    4\n",
      "4    5\n",
      "dtype: int64\n"
     ]
    }
   ],
   "source": [
    "# Create a simple list of numbers\n",
    "numbers = [1, 2, 3, 4, 5]\n",
    "\n",
    "# Convert it to a pandas Series\n",
    "series = pd.Series(numbers)\n",
    "\n",
    "# Print the result\n",
    "print(series)"
   ]
  },
  {
   "attachments": {},
   "cell_type": "markdown",
   "metadata": {},
   "source": [
    "##### Question 03\n",
    "What did you notice about the output format?\n",
    "- **Answer:** The output is vertical as opposed to the usual horizontal output. The index of each value is also listed before the item. \n",
    "\n",
    "##### Question 04\n",
    "How is this different from a regular Python list? What are the numbers on the left side?\n",
    "- **Answer:** The output is vertical instead of horizontal. The numbers on the side represent indexes."
   ]
  },
  {
   "cell_type": "markdown",
   "metadata": {},
   "source": [
    "### Part 1 - Reading and Exploring Data\n",
    "\n",
    "#### 01.00 - Loading Data\n",
    "Let's start by loading our sales data that you downloaded alongside this lab. In pandas, we can read various file formats, but CSV (Comma-Separated Values) is one of the most common."
   ]
  },
  {
   "cell_type": "code",
   "execution_count": 3,
   "metadata": {},
   "outputs": [],
   "source": [
    "sales_df = pd.read_csv('sales_data.csv')"
   ]
  },
  {
   "cell_type": "markdown",
   "metadata": {},
   "source": [
    "When using pandas to load data, in ingests it into what is known as a \"dataframe\", this allows us to do advanced manipulation."
   ]
  },
  {
   "cell_type": "markdown",
   "metadata": {},
   "source": [
    "#### 01.01 - Viewing Data Samples\n",
    "Let's explore the fundamental methods for understanding our data structure and content. We'll look at each method individually and understand what it tells us about our data."
   ]
  },
  {
   "cell_type": "code",
   "execution_count": 6,
   "metadata": {},
   "outputs": [
    {
     "name": "stdout",
     "output_type": "stream",
     "text": [
      "         Date   Product         Category    Price  Units    Total  Discount  \\\n",
      "0  2023-01-01  Notebook  Office Supplies    18.33      2    35.56      0.03   \n",
      "1  2023-01-01    Laptop      Electronics  1943.35      4  7773.40      0.00   \n",
      "2  2023-01-01    Tablet      Electronics   436.05      2   872.10      0.00   \n",
      "\n",
      "  Region     Sales_Rep Payment_Method Customer_Segment  \n",
      "0  South  Sarah Wilson     Debit Card   Small Business  \n",
      "1  North    John Smith     Debit Card   Small Business  \n",
      "2   East   David Brown  Bank Transfer       Government  \n"
     ]
    }
   ],
   "source": [
    "print(sales_df.head(3))"
   ]
  },
  {
   "cell_type": "code",
   "execution_count": 5,
   "metadata": {},
   "outputs": [
    {
     "name": "stdout",
     "output_type": "stream",
     "text": [
      "            Date       Product         Category    Price  Units    Total  \\\n",
      "3766  2023-12-31    Smartwatch      Electronics  1730.72      2  3461.44   \n",
      "3767  2023-12-31          Desk        Furniture   462.57      1   462.57   \n",
      "3768  2023-12-31        Laptop      Electronics   560.79      2  1121.58   \n",
      "3769  2023-12-31  Office Chair        Furniture   116.04      2   232.08   \n",
      "3770  2023-12-31      Notebook  Office Supplies    18.15      4    72.60   \n",
      "\n",
      "      Discount Region        Sales_Rep Payment_Method Customer_Segment  \n",
      "3766       0.0  South  Michael Johnson     Debit Card       Individual  \n",
      "3767       0.0  North       John Smith     Debit Card       Government  \n",
      "3768       0.0   East      David Brown     Debit Card   Small Business  \n",
      "3769       0.0  North       Emma Davis    Credit Card        Corporate  \n",
      "3770       0.0  North       Emma Davis         PayPal       Individual  \n"
     ]
    }
   ],
   "source": [
    "print(sales_df.tail())"
   ]
  },
  {
   "attachments": {},
   "cell_type": "markdown",
   "metadata": {},
   "source": [
    "##### Question 04\n",
    "What is the difference between the `tail()` and `head()` commands? What would be use of either command be?\n",
    "- **Answer:** \"head()\" considers the first 5 items in the file. \"tail()\" considers the last 5 items in the file. \"head()\" can be used to obtain the data inputted first while \"tail()\" can obtain the last inputted data.\n",
    "\n",
    "##### Question 05\n",
    "What happens when you put a number in the `head()` function? What changed?\n",
    "- **Answer:** It changes the number of items displayed. By default, \"head()\" displays 5 items if it is not specified."
   ]
  },
  {
   "cell_type": "markdown",
   "metadata": {},
   "source": [
    "#### 01.02 - Understanding DataFrame Structure\n",
    "Let's examine the basic properties of our DataFrame:"
   ]
  },
  {
   "cell_type": "code",
   "execution_count": 7,
   "metadata": {},
   "outputs": [
    {
     "name": "stdout",
     "output_type": "stream",
     "text": [
      "Index(['Date', 'Product', 'Category', 'Price', 'Units', 'Total', 'Discount',\n",
      "       'Region', 'Sales_Rep', 'Payment_Method', 'Customer_Segment'],\n",
      "      dtype='object')\n"
     ]
    }
   ],
   "source": [
    "print(sales_df.columns)"
   ]
  },
  {
   "cell_type": "code",
   "execution_count": 8,
   "metadata": {},
   "outputs": [
    {
     "name": "stdout",
     "output_type": "stream",
     "text": [
      "Date                 object\n",
      "Product              object\n",
      "Category             object\n",
      "Price               float64\n",
      "Units                 int64\n",
      "Total               float64\n",
      "Discount            float64\n",
      "Region               object\n",
      "Sales_Rep            object\n",
      "Payment_Method       object\n",
      "Customer_Segment     object\n",
      "dtype: object\n"
     ]
    }
   ],
   "source": [
    "print(sales_df.dtypes)"
   ]
  },
  {
   "attachments": {},
   "cell_type": "markdown",
   "metadata": {},
   "source": [
    "##### Question 06\n",
    "Compare and contrast the outputs of the `columns` and `dtypes` properties. What is similar what is different?\n",
    "- **Answer:** \"columns\" simply lists the initial columns defined at the top of the csv file. \"dtypes\" gives a vertical output that lists each column and its data type. \n",
    "\n",
    "##### Question 07\n",
    "What data type is the 'Date' column? Is this what you expected? \n",
    "- **Answer:** \"Date\" is an object, though I expected it to be a date value. \n",
    "\n",
    "##### Question 08\n",
    "Why might pandas choose different data types for different columns?\n",
    "- **Answer:** Pandas may not be able to support certain datatypes or rather, it may be more efficient for Pandas to take most columns as objects or \"strings.\" These columns are often those that can be displayed in different ways, but mean the same thing (11/9/24 instead of 11-09-2024)."
   ]
  },
  {
   "cell_type": "markdown",
   "metadata": {},
   "source": [
    "#### 01.03 - Data Information Summary\n",
    "The `info()` method provides a concise summary of our DataFrame:"
   ]
  },
  {
   "cell_type": "code",
   "execution_count": 9,
   "metadata": {},
   "outputs": [
    {
     "name": "stdout",
     "output_type": "stream",
     "text": [
      "<class 'pandas.core.frame.DataFrame'>\n",
      "RangeIndex: 3771 entries, 0 to 3770\n",
      "Data columns (total 11 columns):\n",
      " #   Column            Non-Null Count  Dtype  \n",
      "---  ------            --------------  -----  \n",
      " 0   Date              3771 non-null   object \n",
      " 1   Product           3771 non-null   object \n",
      " 2   Category          3771 non-null   object \n",
      " 3   Price             3771 non-null   float64\n",
      " 4   Units             3771 non-null   int64  \n",
      " 5   Total             3771 non-null   float64\n",
      " 6   Discount          3771 non-null   float64\n",
      " 7   Region            3771 non-null   object \n",
      " 8   Sales_Rep         3693 non-null   object \n",
      " 9   Payment_Method    3739 non-null   object \n",
      " 10  Customer_Segment  3771 non-null   object \n",
      "dtypes: float64(3), int64(1), object(7)\n",
      "memory usage: 324.2+ KB\n",
      "None\n"
     ]
    }
   ],
   "source": [
    "print(sales_df.info())"
   ]
  },
  {
   "attachments": {},
   "cell_type": "markdown",
   "metadata": {},
   "source": [
    "##### Question 09\n",
    "What information does `info()` tell us, how could this information be useful?\n",
    "- **Answer:** \"info()\" tells us each column's data type and even how many different data types there are. This is useful when trying to determine what kind of data types Pandas is using for your columns.\n",
    "\n",
    "##### Question 10\n",
    "How much memory is our DataFrame using? \n",
    "- **Answer:** 324.2+ Kilobytes.\n",
    "\n",
    "##### Question 11\n",
    "What does \"null\" mean? What impact could having \"null\" values in a dataset?\n",
    "- **Answer:** \"Null\" means \"nothing\" or \"0\". Having null values means that the column contains sections where there is an expected value, but there is nothing there."
   ]
  },
  {
   "cell_type": "markdown",
   "metadata": {},
   "source": [
    "#### 01.04 - Numerical Summaries\n",
    "The `describe()` method provides statistical summaries for numerical columns:"
   ]
  },
  {
   "cell_type": "code",
   "execution_count": 10,
   "metadata": {},
   "outputs": [
    {
     "name": "stdout",
     "output_type": "stream",
     "text": [
      "             Price        Units         Total     Discount\n",
      "count  3771.000000  3771.000000   3771.000000  3771.000000\n",
      "mean    397.093911     2.985150   1159.701854     0.021594\n",
      "std     514.524434     1.410003   1750.424109     0.041496\n",
      "min       4.810000     1.000000      4.990000     0.000000\n",
      "25%      40.165000     2.000000    110.730000     0.000000\n",
      "50%     134.860000     3.000000    372.870000     0.000000\n",
      "75%     516.490000     4.000000   1472.525000     0.020000\n",
      "max    2073.680000     5.000000  10151.100000     0.150000\n"
     ]
    }
   ],
   "source": [
    "print(sales_df.describe())"
   ]
  },
  {
   "attachments": {},
   "cell_type": "markdown",
   "metadata": {},
   "source": [
    "##### Question 12\n",
    "What statistics does the `describe()` function give us?\n",
    "- **Answer:** \"describe()\" gives us the total count of items within a column, the average value of the items within that column (numbers), the minimum values, the mazimum values, the value with an index that is 1/4 the index of the number of items, the value with an index that is 1/2 the index of the number of items, and the value with an index that is 3/4 the index of the number of items. \n",
    "\n",
    "##### Question 13\n",
    "Which columns did the `describe()` function perform statistics on? Why? (Hint: why didnt we see 'Product' in the output?)\n",
    "- **Answer:** \"describe()\" only applies to \"Price, Units, Total, and Discount\" Likely because they are number oriented and have no strings to perform math operations on. "
   ]
  },
  {
   "cell_type": "code",
   "execution_count": 11,
   "metadata": {},
   "outputs": [
    {
     "name": "stdout",
     "output_type": "stream",
     "text": [
      "             Price        Units\n",
      "count  3771.000000  3771.000000\n",
      "mean    397.093911     2.985150\n",
      "std     514.524434     1.410003\n",
      "min       4.810000     1.000000\n",
      "25%      40.165000     2.000000\n",
      "50%     134.860000     3.000000\n",
      "75%     516.490000     4.000000\n",
      "max    2073.680000     5.000000\n"
     ]
    }
   ],
   "source": [
    "print(sales_df[['Price', 'Units']].describe())"
   ]
  },
  {
   "attachments": {},
   "cell_type": "markdown",
   "metadata": {},
   "source": [
    "##### Question 14\n",
    "What is different in the codeblock above compared to the previous one. How did this affect the output?\n",
    "- **Answer:** Here we specify the columns to describe, so Pandas only outputs the descriptions of those 2 columns. "
   ]
  },
  {
   "cell_type": "code",
   "execution_count": 12,
   "metadata": {},
   "outputs": [
    {
     "name": "stdout",
     "output_type": "stream",
     "text": [
      "['Office Supplies' 'Electronics' 'Accessories' 'Furniture']\n"
     ]
    }
   ],
   "source": [
    "print(sales_df['Category'].unique())"
   ]
  },
  {
   "attachments": {},
   "cell_type": "markdown",
   "metadata": {},
   "source": [
    "##### Question 15\n",
    "How many unique product categories are in our data set?\n",
    "- **Answer:** 4 unique product categories."
   ]
  },
  {
   "cell_type": "code",
   "execution_count": 19,
   "metadata": {},
   "outputs": [
    {
     "name": "stdout",
     "output_type": "stream",
     "text": [
      "Output 1:\n",
      "Category\n",
      "Office Supplies    953\n",
      "Accessories        942\n",
      "Furniture          941\n",
      "Electronics        935\n",
      "Name: count, dtype: int64\n",
      "\n",
      "\n",
      "Output 2:\n",
      "Category\n",
      "Office Supplies    0.252718\n",
      "Accessories        0.249801\n",
      "Furniture          0.249536\n",
      "Electronics        0.247945\n",
      "Name: proportion, dtype: float64\n"
     ]
    }
   ],
   "source": [
    "print(\"Output 1:\")\n",
    "print(sales_df['Category'].value_counts())\n",
    "\n",
    "print('')\n",
    "print('')\n",
    "\n",
    "print(\"Output 2:\")\n",
    "print(sales_df['Category'].value_counts(normalize=True))"
   ]
  },
  {
   "attachments": {},
   "cell_type": "markdown",
   "metadata": {},
   "source": [
    "##### Question 16\n",
    "What is the difference between the two outputs?\n",
    "- **Answer:** Output 1 has solid counts while Output 2 lists the proportion of items that are each individual value.\n",
    "\n",
    "##### Question 17\n",
    "What is our most common product category?\n",
    "- **Answer:** Office supplies."
   ]
  },
  {
   "attachments": {},
   "cell_type": "markdown",
   "metadata": {},
   "source": [
    "##### Excercise 00\n",
    "Using what you've learned, create a code cell direclty below this one to answer these questions:\n",
    "\n",
    "- What is the date range of our sales data? (Hint: try `min()` and `max()` functions)\n",
    "- How many unique products do we sell?\n",
    "- What is our most common payment method?"
   ]
  },
  {
   "cell_type": "code",
   "execution_count": 26,
   "metadata": {},
   "outputs": [
    {
     "name": "stdout",
     "output_type": "stream",
     "text": [
      "2023-01-01\n",
      "2023-12-31\n",
      "['Notebook' 'Laptop' 'Tablet' 'USB Drive' 'Pen Set' 'Laptop Bag' 'Lamp'\n",
      " 'Smartwatch' 'Monitor Stand' 'Desk Organizer' 'Smartphone' 'Stapler'\n",
      " 'Desk' 'Mouse' 'Keyboard' 'Office Chair' 'Bookshelf' 'Paper Clips'\n",
      " 'Headphones' 'Filing Cabinet']\n",
      "count              3739\n",
      "unique                4\n",
      "top       Bank Transfer\n",
      "freq                976\n",
      "Name: Payment_Method, dtype: object\n"
     ]
    }
   ],
   "source": [
    "print(sales_df[\"Date\"].min())\n",
    "print(sales_df[\"Date\"].max())\n",
    "\n",
    "#From Jan 1st, 2023 to Dec 31st, 2023.\n",
    "\n",
    "print(sales_df[\"Product\"].unique())\n",
    "\n",
    "#20 unique items. \n",
    "\n",
    "print(sales_df[\"Payment_Method\"].describe())\n",
    "\n",
    "#The most common payment method is Bank Transfer."
   ]
  },
  {
   "cell_type": "markdown",
   "metadata": {},
   "source": [
    "### Part 2 - Data Selection and Filtering\n",
    "\n",
    "#### 02.01 - Column Selection\n",
    "There are multiple ways to select columns in pandas. Let's explore them:"
   ]
  },
  {
   "cell_type": "code",
   "execution_count": 28,
   "metadata": {},
   "outputs": [],
   "source": [
    "# Select single column\n",
    "prices = sales_df['Price']\n",
    "\n",
    "# Select multiple columns\n",
    "product_info = sales_df[['Product', 'Price', 'Units']]"
   ]
  },
  {
   "attachments": {},
   "cell_type": "markdown",
   "metadata": {},
   "source": [
    "##### Question 17\n",
    "Compare and contrast how we select multiple columns vs a single column.\n",
    "- **Answer:** We can select a single column by simply assigning a variable with that one column. We can select multiple columns by assigning multiple columns to a variable through a list."
   ]
  },
  {
   "cell_type": "markdown",
   "metadata": {},
   "source": [
    "##### Excercise 01\n",
    "Using what you've learned, create a code cell direclty below this one to select the 'Region' and 'Category' columns and store them in a variable called 'location_data'."
   ]
  },
  {
   "cell_type": "code",
   "execution_count": 29,
   "metadata": {},
   "outputs": [
    {
     "name": "stdout",
     "output_type": "stream",
     "text": [
      "  Region         Category\n",
      "0  South  Office Supplies\n",
      "1  North      Electronics\n",
      "2   East      Electronics\n",
      "3   East      Accessories\n",
      "4   East  Office Supplies\n"
     ]
    }
   ],
   "source": [
    "location_data = sales_df[[\"Region\", \"Category\"]]\n",
    "\n",
    "print(location_data.head())"
   ]
  },
  {
   "cell_type": "markdown",
   "metadata": {},
   "source": [
    "#### 02.01 - Filtering Data\n",
    "Let's learn how to filter our data based on conditions:"
   ]
  },
  {
   "cell_type": "code",
   "execution_count": 30,
   "metadata": {},
   "outputs": [
    {
     "name": "stdout",
     "output_type": "stream",
     "text": [
      "Expensive items:\n",
      "            Date     Product     Category    Price  Units    Total  Discount  \\\n",
      "1     2023-01-01      Laptop  Electronics  1943.35      4  7773.40      0.00   \n",
      "9     2023-01-01  Smartwatch  Electronics   893.71      3  2681.13      0.00   \n",
      "10    2023-01-01      Laptop  Electronics   802.12      3  2093.53      0.13   \n",
      "13    2023-01-02  Smartphone  Electronics   687.98      3  2063.94      0.00   \n",
      "16    2023-01-02  Smartwatch  Electronics   507.91      4  2031.64      0.00   \n",
      "...          ...         ...          ...      ...    ...      ...       ...   \n",
      "3760  2023-12-31  Smartphone  Electronics  1766.20      4  7064.80      0.00   \n",
      "3763  2023-12-31      Tablet  Electronics  1424.20      5  7121.00      0.00   \n",
      "3764  2023-12-31  Smartphone  Electronics   857.34      5  4286.70      0.00   \n",
      "3766  2023-12-31  Smartwatch  Electronics  1730.72      2  3461.44      0.00   \n",
      "3768  2023-12-31      Laptop  Electronics   560.79      2  1121.58      0.00   \n",
      "\n",
      "     Region          Sales_Rep Payment_Method Customer_Segment  \n",
      "1     North         John Smith     Debit Card   Small Business  \n",
      "9      West  Jennifer Martinez         PayPal       Government  \n",
      "10     West  Jennifer Martinez     Debit Card       Individual  \n",
      "13     West      Robert Taylor  Bank Transfer   Small Business  \n",
      "16     East        David Brown  Bank Transfer        Corporate  \n",
      "...     ...                ...            ...              ...  \n",
      "3760   West  Jennifer Martinez         PayPal   Small Business  \n",
      "3763  North         John Smith         PayPal        Corporate  \n",
      "3764   West      Robert Taylor  Bank Transfer        Corporate  \n",
      "3766  South    Michael Johnson     Debit Card       Individual  \n",
      "3768   East        David Brown     Debit Card   Small Business  \n",
      "\n",
      "[989 rows x 11 columns]\n",
      "\n",
      "North region sales:\n",
      "            Date       Product         Category    Price  Units    Total  \\\n",
      "1     2023-01-01        Laptop      Electronics  1943.35      4  7773.40   \n",
      "8     2023-01-01          Lamp        Furniture   353.09      5  1518.29   \n",
      "17    2023-01-02          Lamp        Furniture   390.69      3  1160.35   \n",
      "24    2023-01-03     Bookshelf        Furniture   504.67      1   504.67   \n",
      "27    2023-01-03       Pen Set  Office Supplies    30.36      3    91.08   \n",
      "...          ...           ...              ...      ...    ...      ...   \n",
      "3759  2023-12-31     USB Drive      Accessories    86.88      1    77.32   \n",
      "3763  2023-12-31        Tablet      Electronics  1424.20      5  7121.00   \n",
      "3767  2023-12-31          Desk        Furniture   462.57      1   462.57   \n",
      "3769  2023-12-31  Office Chair        Furniture   116.04      2   232.08   \n",
      "3770  2023-12-31      Notebook  Office Supplies    18.15      4    72.60   \n",
      "\n",
      "      Discount Region   Sales_Rep Payment_Method Customer_Segment  \n",
      "1         0.00  North  John Smith     Debit Card   Small Business  \n",
      "8         0.14  North  Emma Davis     Debit Card       Individual  \n",
      "17        0.01  North  Emma Davis    Credit Card       Individual  \n",
      "24        0.00  North  John Smith         PayPal   Small Business  \n",
      "27        0.00  North  John Smith     Debit Card   Small Business  \n",
      "...        ...    ...         ...            ...              ...  \n",
      "3759      0.11  North  Emma Davis         PayPal       Individual  \n",
      "3763      0.00  North  John Smith         PayPal        Corporate  \n",
      "3767      0.00  North  John Smith     Debit Card       Government  \n",
      "3769      0.00  North  Emma Davis    Credit Card        Corporate  \n",
      "3770      0.00  North  Emma Davis         PayPal       Individual  \n",
      "\n",
      "[985 rows x 11 columns]\n"
     ]
    }
   ],
   "source": [
    "expensive_items = sales_df[sales_df['Price'] > 500]\n",
    "\n",
    "north_sales = sales_df[sales_df['Region'] == 'North']\n",
    "\n",
    "print(\"Expensive items:\")\n",
    "print(expensive_items)\n",
    "print(\"\\nNorth region sales:\")\n",
    "print(north_sales)"
   ]
  },
  {
   "attachments": {},
   "cell_type": "markdown",
   "metadata": {},
   "source": [
    "##### Question 18\n",
    "What is `sales_df['Price'] > 500` accomplishing in our code? How might we use this in data science workflows?\n",
    "- **Answer:** It is filtering items with a Price greater than 500 into the expensive_items variable. We may need this to determine patterns in expensive purchases and other factors. \n",
    "\n",
    "##### Question 19\n",
    "What logic operator would we use to combine multiple conditonals when filtering columns?\n",
    "- **Answer:** The and operator."
   ]
  },
  {
   "cell_type": "markdown",
   "metadata": {},
   "source": [
    "##### Excercise 02\n",
    "Using what you've learned, create a code cell direclty below this one to create the following filters:\n",
    "- The number of units sold was greater than 5\n",
    "- The product category is 'Electronics'"
   ]
  },
  {
   "cell_type": "code",
   "execution_count": 43,
   "metadata": {},
   "outputs": [
    {
     "name": "stdout",
     "output_type": "stream",
     "text": [
      "Empty DataFrame\n",
      "Columns: [Date, Product, Category, Price, Units, Total, Discount, Region, Sales_Rep, Payment_Method, Customer_Segment]\n",
      "Index: []\n",
      "            Date     Product     Category    Price  Units    Total  Discount  \\\n",
      "1     2023-01-01      Laptop  Electronics  1943.35      4  7773.40      0.00   \n",
      "2     2023-01-01      Tablet  Electronics   436.05      2   872.10      0.00   \n",
      "9     2023-01-01  Smartwatch  Electronics   893.71      3  2681.13      0.00   \n",
      "10    2023-01-01      Laptop  Electronics   802.12      3  2093.53      0.13   \n",
      "13    2023-01-02  Smartphone  Electronics   687.98      3  2063.94      0.00   \n",
      "...          ...         ...          ...      ...    ...      ...       ...   \n",
      "3760  2023-12-31  Smartphone  Electronics  1766.20      4  7064.80      0.00   \n",
      "3763  2023-12-31      Tablet  Electronics  1424.20      5  7121.00      0.00   \n",
      "3764  2023-12-31  Smartphone  Electronics   857.34      5  4286.70      0.00   \n",
      "3766  2023-12-31  Smartwatch  Electronics  1730.72      2  3461.44      0.00   \n",
      "3768  2023-12-31      Laptop  Electronics   560.79      2  1121.58      0.00   \n",
      "\n",
      "     Region          Sales_Rep Payment_Method Customer_Segment  \n",
      "1     North         John Smith     Debit Card   Small Business  \n",
      "2      East        David Brown  Bank Transfer       Government  \n",
      "9      West  Jennifer Martinez         PayPal       Government  \n",
      "10     West  Jennifer Martinez     Debit Card       Individual  \n",
      "13     West      Robert Taylor  Bank Transfer   Small Business  \n",
      "...     ...                ...            ...              ...  \n",
      "3760   West  Jennifer Martinez         PayPal   Small Business  \n",
      "3763  North         John Smith         PayPal        Corporate  \n",
      "3764   West      Robert Taylor  Bank Transfer        Corporate  \n",
      "3766  South    Michael Johnson     Debit Card       Individual  \n",
      "3768   East        David Brown     Debit Card   Small Business  \n",
      "\n",
      "[935 rows x 11 columns]\n"
     ]
    }
   ],
   "source": [
    "large_quantity = sales_df[sales_df[\"Units\"] > 5]\n",
    "print(large_quantity)\n",
    "\n",
    "electronics = sales_df[sales_df[\"Category\"] == \"Electronics\"]\n",
    "print(electronics)"
   ]
  },
  {
   "attachments": {},
   "cell_type": "markdown",
   "metadata": {},
   "source": [
    "#### Part 3 - Final Summary\n",
    "Use your experience completing this lab, and the code block below to answer the following summary questions\n",
    "\n",
    "##### Question 20\n",
    "In your own words, explain what pandas is and why it's useful for data analysis:\n",
    "- **Answer:** Pandas is a library of commands that can be used to manipulate data in CSV files by formatting, cleaning, deleting, and organizing data.\n",
    "\n",
    "##### Question 21\n",
    "How many unique products are in the dataset?\n",
    "- **Answer:** 20 unique products.\n",
    "\n",
    "##### Question 22\n",
    "What was the most popular product category in the `North` region? \n",
    "- **Answer:** Accessories."
   ]
  },
  {
   "cell_type": "code",
   "execution_count": null,
   "metadata": {},
   "outputs": [],
   "source": []
  }
 ],
 "metadata": {
  "kernelspec": {
   "display_name": "Python 3",
   "language": "python",
   "name": "python3"
  },
  "language_info": {
   "codemirror_mode": {
    "name": "ipython",
    "version": 3
   },
   "file_extension": ".py",
   "mimetype": "text/x-python",
   "name": "python",
   "nbconvert_exporter": "python",
   "pygments_lexer": "ipython3",
   "version": "3.10.8"
  },
  "vscode": {
   "interpreter": {
    "hash": "b0fa6594d8f4cbf19f97940f81e996739fb7646882a419484c72d19e05852a7e"
   }
  }
 },
 "nbformat": 4,
 "nbformat_minor": 2
}
